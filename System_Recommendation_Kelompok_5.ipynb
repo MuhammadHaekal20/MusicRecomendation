{
  "cells": [
    {
      "cell_type": "code",
      "execution_count": null,
      "metadata": {
        "id": "wF8rVDkIeOq8"
      },
      "outputs": [],
      "source": [
        "import pandas as pd\n",
        "from sklearn.metrics.pairwise import cosine_similarity\n",
        "from sklearn.feature_extraction.text import TfidfVectorizer"
      ]
    },
    {
      "cell_type": "code",
      "source": [
        "from google.colab import drive\n",
        "drive.mount('/content/drive')"
      ],
      "metadata": {
        "id": "FVxral1b0TaF"
      },
      "execution_count": null,
      "outputs": []
    },
    {
      "cell_type": "code",
      "execution_count": null,
      "metadata": {
        "colab": {
          "base_uri": "https://localhost:8080/"
        },
        "id": "Xz8clOZRyA7G",
        "outputId": "f95b23c3-2b67-4f25-a064-bd4c417ef7ae"
      },
      "outputs": [
        {
          "output_type": "stream",
          "name": "stdout",
          "text": [
            "<class 'pandas.core.frame.DataFrame'>\n",
            "RangeIndex: 20718 entries, 0 to 20717\n",
            "Data columns (total 28 columns):\n",
            " #   Column            Non-Null Count  Dtype  \n",
            "---  ------            --------------  -----  \n",
            " 0   Unnamed: 0        20718 non-null  int64  \n",
            " 1   Artist            20718 non-null  object \n",
            " 2   Url_spotify       20718 non-null  object \n",
            " 3   Track             20718 non-null  object \n",
            " 4   Album             20718 non-null  object \n",
            " 5   Album_type        20718 non-null  object \n",
            " 6   Uri               20718 non-null  object \n",
            " 7   Danceability      20716 non-null  float64\n",
            " 8   Energy            20716 non-null  float64\n",
            " 9   Key               20716 non-null  float64\n",
            " 10  Loudness          20716 non-null  float64\n",
            " 11  Speechiness       20716 non-null  float64\n",
            " 12  Acousticness      20716 non-null  float64\n",
            " 13  Instrumentalness  20716 non-null  float64\n",
            " 14  Liveness          20716 non-null  float64\n",
            " 15  Valence           20716 non-null  float64\n",
            " 16  Tempo             20716 non-null  float64\n",
            " 17  Duration_ms       20716 non-null  float64\n",
            " 18  Url_youtube       20248 non-null  object \n",
            " 19  Title             20248 non-null  object \n",
            " 20  Channel           20248 non-null  object \n",
            " 21  Views             20248 non-null  float64\n",
            " 22  Likes             20177 non-null  float64\n",
            " 23  Comments          20149 non-null  float64\n",
            " 24  Description       19842 non-null  object \n",
            " 25  Licensed          20248 non-null  object \n",
            " 26  official_video    20248 non-null  object \n",
            " 27  Stream            20142 non-null  float64\n",
            "dtypes: float64(15), int64(1), object(12)\n",
            "memory usage: 4.4+ MB\n"
          ]
        }
      ],
      "source": [
        "class song_list:\n",
        "    def __init__(self):\n",
        "        self.data = pd.read_csv('/content/Spotify_Youtube.csv')\n",
        "        self.data.info()\n",
        "        # # Define feature vectors\n",
        "        tfidf = TfidfVectorizer(stop_words='english')\n",
        "        self.data['Features'] = self.data['Artist'] + ' ' + self.data['Album'] + ' ' + self.data['Track']\n",
        "        tfidf_matrix = tfidf.fit_transform(self.data['Features'])\n",
        "        # # Calculate cosine similarity\n",
        "        self.cosine_sim = cosine_similarity(tfidf_matrix)\n",
        "        self.properties = ['Valence', 'Acousticness',\n",
        "                    'Danceability', 'Energy',\n",
        "                    'Instrumentalness', 'Key',\n",
        "                    'Liveness', 'Loudness',\n",
        "                    'Speechiness', 'Tempo']\n",
        "\n",
        "    def get_similiarities(self):\n",
        "        print(self.sim_scores)\n",
        "        print(self.original_song)\n",
        "        print(self.recomendation_song)\n",
        "\n",
        "    def get_recommendations(self, track, artist, n):\n",
        "        # Get index of song\n",
        "        song_data = self.data[(self.data['Track'].str.lower() == track.lower()) &\n",
        "                              (self.data['Artist'].str.lower() == artist.lower())]\n",
        "\n",
        "        if song_data.empty:\n",
        "            return print('Lagu tidak ada di dataset!')\n",
        "\n",
        "        idx = song_data.index[0]\n",
        "\n",
        "        self.sim_scores = list(enumerate(self.cosine_sim[idx]))\n",
        "        self.sim_scores = sorted(self.sim_scores, key=lambda x: x[1], reverse=True)[1:n+1]\n",
        "        song_indices = [i[0] for i in self.sim_scores]\n",
        "\n",
        "        self.original_song = song_data[self.properties].to_string(index=False)\n",
        "        self.recomendation_song = self.data[self.properties].iloc[song_indices].to_string(index=False)\n",
        "\n",
        "        print(f\"Rekomendasi lagu yang mirip dengan {song_data['Track'].iloc[0]} oleh {song_data['Artist'].iloc[0]}:\")\n",
        "        return self.data[['Title', 'Track', 'Artist', 'Album']].iloc[song_indices].reset_index(drop=True)\n",
        "\n",
        "songs = song_list()"
      ]
    },
    {
      "cell_type": "code",
      "execution_count": null,
      "metadata": {
        "colab": {
          "base_uri": "https://localhost:8080/",
          "height": 276
        },
        "id": "_L5ri788yA7H",
        "outputId": "6a9ec364-f2b8-42d4-89f1-d2ca4ab81399"
      },
      "outputs": [
        {
          "output_type": "stream",
          "name": "stdout",
          "text": [
            "Masukan judul lagualone\n",
            "Masukan penyanyi/artistnya: alan walker\n",
            "Berapa banyak yang mau ditampilkan: 5\n",
            "Rekomendasi lagu yang mirip dengan Alone oleh Alan Walker:\n"
          ]
        },
        {
          "output_type": "execute_result",
          "data": {
            "text/plain": [
              "                                               Title          Track  \\\n",
              "0  Alan Walker, K-391 & Emelie Hollow - Lily (Mus...           Lily   \n",
              "1                                Alan Walker - Faded          Faded   \n",
              "2  Alan Walker - Darkside (feat. Au/Ra and Tomine...       Darkside   \n",
              "3  Alan Walker, Sabrina Carpenter & Farruko  - On...      On My Way   \n",
              "4              Alan Walker & Ava Max - Alone, Pt. II  Alone, Pt. II   \n",
              "\n",
              "        Artist            Album  \n",
              "0  Alan Walker  Different World  \n",
              "1  Alan Walker  Different World  \n",
              "2  Alan Walker  Different World  \n",
              "3  Alan Walker  World Of Walker  \n",
              "4  Alan Walker  World Of Walker  "
            ],
            "text/html": [
              "\n",
              "  <div id=\"df-cc669db9-b49e-4173-8745-889c21ceaf3c\">\n",
              "    <div class=\"colab-df-container\">\n",
              "      <div>\n",
              "<style scoped>\n",
              "    .dataframe tbody tr th:only-of-type {\n",
              "        vertical-align: middle;\n",
              "    }\n",
              "\n",
              "    .dataframe tbody tr th {\n",
              "        vertical-align: top;\n",
              "    }\n",
              "\n",
              "    .dataframe thead th {\n",
              "        text-align: right;\n",
              "    }\n",
              "</style>\n",
              "<table border=\"1\" class=\"dataframe\">\n",
              "  <thead>\n",
              "    <tr style=\"text-align: right;\">\n",
              "      <th></th>\n",
              "      <th>Title</th>\n",
              "      <th>Track</th>\n",
              "      <th>Artist</th>\n",
              "      <th>Album</th>\n",
              "    </tr>\n",
              "  </thead>\n",
              "  <tbody>\n",
              "    <tr>\n",
              "      <th>0</th>\n",
              "      <td>Alan Walker, K-391 &amp; Emelie Hollow - Lily (Mus...</td>\n",
              "      <td>Lily</td>\n",
              "      <td>Alan Walker</td>\n",
              "      <td>Different World</td>\n",
              "    </tr>\n",
              "    <tr>\n",
              "      <th>1</th>\n",
              "      <td>Alan Walker - Faded</td>\n",
              "      <td>Faded</td>\n",
              "      <td>Alan Walker</td>\n",
              "      <td>Different World</td>\n",
              "    </tr>\n",
              "    <tr>\n",
              "      <th>2</th>\n",
              "      <td>Alan Walker - Darkside (feat. Au/Ra and Tomine...</td>\n",
              "      <td>Darkside</td>\n",
              "      <td>Alan Walker</td>\n",
              "      <td>Different World</td>\n",
              "    </tr>\n",
              "    <tr>\n",
              "      <th>3</th>\n",
              "      <td>Alan Walker, Sabrina Carpenter &amp; Farruko  - On...</td>\n",
              "      <td>On My Way</td>\n",
              "      <td>Alan Walker</td>\n",
              "      <td>World Of Walker</td>\n",
              "    </tr>\n",
              "    <tr>\n",
              "      <th>4</th>\n",
              "      <td>Alan Walker &amp; Ava Max - Alone, Pt. II</td>\n",
              "      <td>Alone, Pt. II</td>\n",
              "      <td>Alan Walker</td>\n",
              "      <td>World Of Walker</td>\n",
              "    </tr>\n",
              "  </tbody>\n",
              "</table>\n",
              "</div>\n",
              "      <button class=\"colab-df-convert\" onclick=\"convertToInteractive('df-cc669db9-b49e-4173-8745-889c21ceaf3c')\"\n",
              "              title=\"Convert this dataframe to an interactive table.\"\n",
              "              style=\"display:none;\">\n",
              "        \n",
              "  <svg xmlns=\"http://www.w3.org/2000/svg\" height=\"24px\"viewBox=\"0 0 24 24\"\n",
              "       width=\"24px\">\n",
              "    <path d=\"M0 0h24v24H0V0z\" fill=\"none\"/>\n",
              "    <path d=\"M18.56 5.44l.94 2.06.94-2.06 2.06-.94-2.06-.94-.94-2.06-.94 2.06-2.06.94zm-11 1L8.5 8.5l.94-2.06 2.06-.94-2.06-.94L8.5 2.5l-.94 2.06-2.06.94zm10 10l.94 2.06.94-2.06 2.06-.94-2.06-.94-.94-2.06-.94 2.06-2.06.94z\"/><path d=\"M17.41 7.96l-1.37-1.37c-.4-.4-.92-.59-1.43-.59-.52 0-1.04.2-1.43.59L10.3 9.45l-7.72 7.72c-.78.78-.78 2.05 0 2.83L4 21.41c.39.39.9.59 1.41.59.51 0 1.02-.2 1.41-.59l7.78-7.78 2.81-2.81c.8-.78.8-2.07 0-2.86zM5.41 20L4 18.59l7.72-7.72 1.47 1.35L5.41 20z\"/>\n",
              "  </svg>\n",
              "      </button>\n",
              "      \n",
              "  <style>\n",
              "    .colab-df-container {\n",
              "      display:flex;\n",
              "      flex-wrap:wrap;\n",
              "      gap: 12px;\n",
              "    }\n",
              "\n",
              "    .colab-df-convert {\n",
              "      background-color: #E8F0FE;\n",
              "      border: none;\n",
              "      border-radius: 50%;\n",
              "      cursor: pointer;\n",
              "      display: none;\n",
              "      fill: #1967D2;\n",
              "      height: 32px;\n",
              "      padding: 0 0 0 0;\n",
              "      width: 32px;\n",
              "    }\n",
              "\n",
              "    .colab-df-convert:hover {\n",
              "      background-color: #E2EBFA;\n",
              "      box-shadow: 0px 1px 2px rgba(60, 64, 67, 0.3), 0px 1px 3px 1px rgba(60, 64, 67, 0.15);\n",
              "      fill: #174EA6;\n",
              "    }\n",
              "\n",
              "    [theme=dark] .colab-df-convert {\n",
              "      background-color: #3B4455;\n",
              "      fill: #D2E3FC;\n",
              "    }\n",
              "\n",
              "    [theme=dark] .colab-df-convert:hover {\n",
              "      background-color: #434B5C;\n",
              "      box-shadow: 0px 1px 3px 1px rgba(0, 0, 0, 0.15);\n",
              "      filter: drop-shadow(0px 1px 2px rgba(0, 0, 0, 0.3));\n",
              "      fill: #FFFFFF;\n",
              "    }\n",
              "  </style>\n",
              "\n",
              "      <script>\n",
              "        const buttonEl =\n",
              "          document.querySelector('#df-cc669db9-b49e-4173-8745-889c21ceaf3c button.colab-df-convert');\n",
              "        buttonEl.style.display =\n",
              "          google.colab.kernel.accessAllowed ? 'block' : 'none';\n",
              "\n",
              "        async function convertToInteractive(key) {\n",
              "          const element = document.querySelector('#df-cc669db9-b49e-4173-8745-889c21ceaf3c');\n",
              "          const dataTable =\n",
              "            await google.colab.kernel.invokeFunction('convertToInteractive',\n",
              "                                                     [key], {});\n",
              "          if (!dataTable) return;\n",
              "\n",
              "          const docLinkHtml = 'Like what you see? Visit the ' +\n",
              "            '<a target=\"_blank\" href=https://colab.research.google.com/notebooks/data_table.ipynb>data table notebook</a>'\n",
              "            + ' to learn more about interactive tables.';\n",
              "          element.innerHTML = '';\n",
              "          dataTable['output_type'] = 'display_data';\n",
              "          await google.colab.output.renderOutput(dataTable, element);\n",
              "          const docLink = document.createElement('div');\n",
              "          docLink.innerHTML = docLinkHtml;\n",
              "          element.appendChild(docLink);\n",
              "        }\n",
              "      </script>\n",
              "    </div>\n",
              "  </div>\n",
              "  "
            ]
          },
          "metadata": {},
          "execution_count": 5
        }
      ],
      "source": [
        "title = input(\"Masukan judul lagu\")\n",
        "artist = input(\"Masukan penyanyi/artistnya: \")\n",
        "n = int(input(\"Berapa banyak yang mau ditampilkan: \"))\n",
        "songs.get_recommendations(title, artist, n)"
      ]
    },
    {
      "cell_type": "code",
      "execution_count": null,
      "metadata": {
        "colab": {
          "base_uri": "https://localhost:8080/"
        },
        "id": "eVNsEkKCyA7I",
        "outputId": "fbb473de-bbdf-47be-cc69-acf90172086e"
      },
      "outputs": [
        {
          "output_type": "stream",
          "name": "stdout",
          "text": [
            "[(16674, 0.8697015417451881), (16668, 0.8354345404540671), (16671, 0.8105875950418123), (16673, 0.7398165396678023), (16670, 0.7022344328237596)]\n",
            " Valence  Acousticness  Danceability  Energy  Instrumentalness  Key  Liveness  Loudness  Speechiness  Tempo\n",
            "   0.183         0.229         0.673   0.914          0.000478 10.0     0.186    -3.962       0.0496 97.021\n",
            " Valence  Acousticness  Danceability  Energy  Instrumentalness  Key  Liveness  Loudness  Speechiness   Tempo\n",
            "   0.467        0.1960         0.423   0.634          0.000000  6.0     0.189    -5.877       0.0578 150.978\n",
            "   0.159        0.0281         0.468   0.627          0.000008  6.0     0.110    -5.085       0.0476 179.642\n",
            "   0.123        0.1310         0.430   0.606          0.000000  4.0     0.173    -5.115       0.0431 169.988\n",
            "   0.235        0.0291         0.522   0.697          0.000000  1.0     0.319    -5.288       0.1030 169.775\n",
            "   0.628        0.5390         0.673   0.659          0.000000  3.0     0.129    -4.493       0.0439  88.011\n"
          ]
        }
      ],
      "source": [
        "songs.get_similiarities()"
      ]
    }
  ],
  "metadata": {
    "colab": {
      "provenance": []
    },
    "kernelspec": {
      "display_name": "Python 3",
      "language": "python",
      "name": "python3"
    },
    "language_info": {
      "codemirror_mode": {
        "name": "ipython",
        "version": 3
      },
      "file_extension": ".py",
      "mimetype": "text/x-python",
      "name": "python",
      "nbconvert_exporter": "python",
      "pygments_lexer": "ipython3",
      "version": "3.11.2"
    },
    "vscode": {
      "interpreter": {
        "hash": "dde65849d85e2c106becfbd68592abd33fd15cf9e45aed6741f85e50ef072247"
      }
    }
  },
  "nbformat": 4,
  "nbformat_minor": 0
}